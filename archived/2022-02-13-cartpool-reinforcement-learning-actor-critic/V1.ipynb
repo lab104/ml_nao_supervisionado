{
 "cells": [
  {
   "cell_type": "markdown",
   "metadata": {
    "id": "Skym3J8Te6pS"
   },
   "source": [
    "        NOME COMPLETO E MATRÍCULA DOS INTEGRANTES DO GRUPO:\n",
    "        - LUCAS DE SOUSA BRITO, MAT:2186330019, TURMA 2021-1\n",
    "        - PABLO NOGUEIRA OLIVEIRA, MAT:2186330027, TURMA 2021-1\n",
    "        - MATHEUS BARBOSA OLIVEIRA, MAT: 2186330037, TURMA 2021-1\n",
    "\n",
    "# **Enunciado da Questão**\n",
    "\n",
    "Tendo por base o exemplo **DQN no CartPole Visual**, gere uma versão do código **Actor-Critic no Cartpole** que receba como descrição do espaço de estados uma imagem, ao invés das informações padrão da interface do openai gym.\n",
    "\n",
    "# **Comentários dos alunos**\n",
    "\n",
    "Nós identificamos um exemplo no github que é bem parecido com o exemplo de sala de aula e já tinha o Ator-Critic funcional. Não verificamos as fórmulas a fundo, mas nos parece que é a mesma lógica [apesar do código ser bem diferente].\n",
    "\n",
    "O objetivo de partir do zero sem usar o material de aula verificar se apenas com o que ficou em nossa memória das aulas poderíamos chegar em um resultado efetivo, afinal, no futuro o que contará são os conceitos que aprendemos e nossa capacidade de pesquisar e experimentar. Além disso, a comparação do código apresentado pelo professor e outros nos ajudou a consolidar diversas formas de codificar a mesma coisa.  \n",
    "\n",
    "Com base na fonte, restava apenas fazer o \"upgrade\" do modelo do ator para entender a imagem no lugar de atuar com base no objeto de estado do módulo gym.\n",
    "\n",
    "## Considerações sobre os Resultados\n",
    "\n",
    "Naturalmente que o treinamento foi muito mais lento.\n",
    "\n",
    "No lugar de usar um estado [de apenas 4 variáveis oferecido pelo Gym](https://github.com/openai/gym/blob/b8634bba1931ffd59a36abdc09eacc70c113da24/gym/envs/classic_control/cartpole.py#L143), este exercício precisou usar uma imagem com resolução suficientemente alta para que um modelo seja capaz de inferir estas variáveis ou algo equivalente que suporte a decisão. \n",
    "\n",
    "De toda forma, no treinamento local com a tela do opengym aberto foi possível observar que lá pelas 200 iterações o modelo entrou naquela fase em que erra muito, mas vez ou outra mostra um comportamento indicando que está começando a aprender a física do ambiente: \n",
    "\n",
    "* Andar devagar com o bastão levemente inclinado\n",
    "* Mudar a direção para tentar recuperar quando o bastão está muito inclinado\n",
    "* Manter o bastão inclinado, ir rápido para o lado e perto do fim da tela voltar rapidamente. \n",
    "\n",
    "A evolução natural no ponto em que estamos seria modularizar melhor o código fonte, migrar a memória de replay para uma classe como o professor demostrou e talvez a parte de treinamento, adicionar gráficos e visualizações das estatísticas do modelo. \n",
    "\n",
    "## Referências usadas:\n",
    "\n",
    "### Código Fonte Base\n",
    "  \n",
    "   https://github.com/yc930401/Actor-Critic-pytorch/blob/master/Actor-Critic.py\n",
    "\n",
    "### Outras Referências\n",
    "\n",
    "* Display Virtual no Colab: https://stackoverflow.com/questions/50107530/how-to-render-openai-gym-in-google-colab\n",
    "* Documentação do TensorFlow a respeito de DQN https://www.tensorflow.org/agents/tutorials/0_intro_rl\n",
    "* CartPole Gym: https://github.com/openai/gym/blob/master/gym/envs/classic_control/cartpole.py\n",
    "* CartPole Formulas: https://coneural.org/florian/papers/05_cart_pole.pdf"
   ]
  },
  {
   "cell_type": "markdown",
   "metadata": {
    "id": "jgBVYPk0eXlN"
   },
   "source": [
    "# **Preparação: Instalação do ambiente, configurações e bibliotecas**"
   ]
  },
  {
   "cell_type": "code",
   "execution_count": null,
   "metadata": {
    "colab": {
     "base_uri": "https://localhost:8080/"
    },
    "id": "n6dYZ3ODXhiL",
    "outputId": "693adcbb-9b24-4288-fbe1-0f8622293d55"
   },
   "outputs": [
    {
     "name": "stdout",
     "output_type": "stream",
     "text": [
      "Requirement already satisfied: gym in /usr/local/lib/python3.7/dist-packages (0.17.3)\n",
      "Requirement already satisfied: pyvirtualdisplay in /usr/local/lib/python3.7/dist-packages (3.0)\n",
      "Requirement already satisfied: scipy in /usr/local/lib/python3.7/dist-packages (from gym) (1.4.1)\n",
      "Requirement already satisfied: pyglet<=1.5.0,>=1.4.0 in /usr/local/lib/python3.7/dist-packages (from gym) (1.5.0)\n",
      "Requirement already satisfied: numpy>=1.10.4 in /usr/local/lib/python3.7/dist-packages (from gym) (1.21.5)\n",
      "Requirement already satisfied: cloudpickle<1.7.0,>=1.2.0 in /usr/local/lib/python3.7/dist-packages (from gym) (1.3.0)\n",
      "Requirement already satisfied: future in /usr/local/lib/python3.7/dist-packages (from pyglet<=1.5.0,>=1.4.0->gym) (0.16.0)\n",
      "Reading package lists... Done\n",
      "Building dependency tree       \n",
      "Reading state information... Done\n",
      "python-opengl is already the newest version (3.1.0+dfsg-1).\n",
      "ffmpeg is already the newest version (7:3.4.8-0ubuntu0.2).\n",
      "xvfb is already the newest version (2:1.19.6-1ubuntu4.10).\n",
      "The following package was automatically installed and is no longer required:\n",
      "  libnvidia-common-470\n",
      "Use 'apt autoremove' to remove it.\n",
      "0 upgraded, 0 newly installed, 0 to remove and 39 not upgraded.\n"
     ]
    }
   ],
   "source": [
    "!pip install gym pyvirtualdisplay\n",
    "!apt-get install -y xvfb python-opengl ffmpeg"
   ]
  },
  {
   "cell_type": "code",
   "execution_count": null,
   "metadata": {
    "colab": {
     "base_uri": "https://localhost:8080/"
    },
    "id": "ZA0GB7DHenVd",
    "outputId": "aff3760b-e008-46b4-dfa0-30f3f5ec906a"
   },
   "outputs": [
    {
     "data": {
      "text/plain": [
       "<pyvirtualdisplay.display.Display at 0x7fa9578fa7d0>"
      ]
     },
     "execution_count": 2,
     "metadata": {},
     "output_type": "execute_result"
    }
   ],
   "source": [
    "from pyvirtualdisplay import Display\n",
    "display = Display(visible=0, size=(1400, 900))\n",
    "display.start()"
   ]
  },
  {
   "cell_type": "code",
   "execution_count": null,
   "metadata": {
    "id": "8vKOSQcai0Ns"
   },
   "outputs": [],
   "source": [
    "import gym, os\n",
    "from itertools import count\n",
    "import torch\n",
    "import torch.nn as nn\n",
    "import torch.optim as optim\n",
    "import torch.nn.functional as F\n",
    "from torch.distributions import Categorical\n",
    "import cv2\n",
    "import numpy as np \n",
    "import random\n",
    "import math\n",
    "import matplotlib\n",
    "import matplotlib.pyplot as plt\n",
    "from IPython.display import clear_output\n",
    "\n",
    "device = torch.device(\"cuda\" if torch.cuda.is_available() else \"cpu\")"
   ]
  },
  {
   "cell_type": "markdown",
   "metadata": {
    "id": "zBPKK0aPm46Z"
   },
   "source": [
    "### **Utilidades: Tratamento da imagem para o Pytorch**\n",
    "\n",
    "Como o CartPole oferece a imagem com cores diferentes para o carrinho e bastão, nós imaginamos que esta informação poderia ser útil para o modelo pois a física envolvida envolve a diferênca entre o centro do carrinho e a ponta do bastão. \n",
    "\n",
    "Também chegamos a fazer um experimento com a imagem preto e branco. No notebook do professor também existe um \"crop\" para dar um zoom no bastão que nos parece uma excelente ideia para reduzir o tempo de processamento. \n",
    "\n",
    "Mas nós buscamos formas diferentes de fazer para ter uma ideia do que acontece. "
   ]
  },
  {
   "cell_type": "code",
   "execution_count": null,
   "metadata": {
    "id": "RqT3bcnlmsQ4"
   },
   "outputs": [],
   "source": [
    "image_width=600\n",
    "image_height=50\n",
    "image_channels=3\n",
    "image_size=image_width*image_height*image_channels\n",
    "\n",
    "# esta função extrai a imagem do ambiente no formato do pytorch para o treinamento\n",
    "def extractImage(env):\n",
    "    tela = env.render(mode='rgb_array')\n",
    "    tela = cv2.resize(tela,(image_width,image_height))\n",
    "    #tela = np.dot(tela, [0.2989, 0.5870, 0.1140])\n",
    "\n",
    "    #import matplotlib.pyplot as plt\n",
    "    #plt.imshow(tela)\n",
    "    #plt.savefig('teste.png')\n",
    "    #plt.close()\n",
    "\n",
    "    tela = tela.reshape(1,image_height,image_width,3)\n",
    "    tela = tela / 255 - 0.5\n",
    "\n",
    "    tela = torch.FloatTensor(tela)\n",
    "    tela = tela.permute(0,3,1,2)    \n",
    "    return tela\n",
    "\n",
    "\n"
   ]
  },
  {
   "cell_type": "markdown",
   "metadata": {
    "id": "FtJMT8cQpt7m"
   },
   "source": [
    "# **Preparação: Utilidades Gerais**"
   ]
  },
  {
   "cell_type": "code",
   "execution_count": null,
   "metadata": {
    "id": "PQse5Rlgn0ng"
   },
   "outputs": [],
   "source": [
    "# estas funções são usadas para exibição dos registros na tela do collab\n",
    "\n",
    "def captureScreen(env):\n",
    "    tela = env.render(mode='rgb_array')\n",
    "    tela = cv2.resize(tela,(60,40))\n",
    "    return tela\n",
    "\n",
    "def captureScreenRed(env):\n",
    "    tela = np.zeros((40,60,3))\n",
    "    tela[:,:,0] = 255\n",
    "    return tela"
   ]
  },
  {
   "cell_type": "markdown",
   "metadata": {
    "id": "fdOMOoUri99C"
   },
   "source": [
    "# **Preparação: Ambiente do Gym**"
   ]
  },
  {
   "cell_type": "code",
   "execution_count": null,
   "metadata": {
    "id": "vccMOtt_jCJ7"
   },
   "outputs": [],
   "source": [
    "env = gym.make(\"CartPole-v1\").unwrapped\n",
    "\n",
    "state_size = env.observation_space.shape[0]\n",
    "\n",
    "# No CartPole, action_size será 2 (direita ou esquerda)\n",
    "action_size = env.action_space.n"
   ]
  },
  {
   "cell_type": "markdown",
   "metadata": {
    "id": "jFuBssfNjdKs"
   },
   "source": [
    "# **Modelo do Ator**\n",
    "\n",
    "O modelo do ator recebe uma imagem e retorna uma distribuição de probabilidades da melhor ação a ser tomada na situação em particular.\n"
   ]
  },
  {
   "cell_type": "code",
   "execution_count": null,
   "metadata": {
    "id": "o2JAUWM8jfgE"
   },
   "outputs": [],
   "source": [
    "# Este modelo vai aprender o que o ator\n",
    "# deve fazer para maximizar o valor\n",
    "class Actor(nn.Module):\n",
    "\n",
    "    def __init__(self, image_size, action_size):\n",
    "\n",
    "        super(Actor, self).__init__()\n",
    "        self.state_size = state_size\n",
    "        self.action_size = action_size        \n",
    "        \n",
    "        self.c1 = nn.Conv2d(3, 16, kernel_size=(6,6), stride=(1,1)) \n",
    "        self.c1d = nn.Dropout2d(0.25)\n",
    "        self.c1p = nn.MaxPool2d(2)\n",
    "\n",
    "        self.c2 = nn.Conv2d(16, 128, kernel_size=(6,6), stride=(1,1)) \n",
    "        self.c2d = nn.Dropout2d(0.25)\n",
    "        self.c2p = nn.MaxPool2d(2)\n",
    "\n",
    "        self.c3 = nn.Conv2d(128, 8, kernel_size=(6,6), stride=(1,1)) \n",
    "        self.c3d = nn.Dropout2d(0.25)\n",
    "\n",
    "        self.f1 = nn.Flatten()                    \n",
    "\n",
    "        # no futuro este 3384 pode ser calculado a partir do tamanho da imagem\n",
    "        self.d1 = nn.Linear(3384,2048) \n",
    "        self.d2 = nn.Linear(2048,256)  \n",
    "        self.o1 = nn.Linear(256, self.action_size)\n",
    "\n",
    "    def forward(self, image):\n",
    "        \n",
    "        output = image\n",
    "        output = F.relu(self.c1(output))        \n",
    "        output = self.c1d(output)\n",
    "        output = self.c1p(output)\n",
    "\n",
    "        output = F.relu(self.c2(output))                \n",
    "        output = self.c2d(output)\n",
    "        output = self.c2p(output)\n",
    "\n",
    "        output = F.relu(self.c3(output))                \n",
    "        output = self.c3d(output)\n",
    "\n",
    "        output = self.f1(output)\n",
    "\n",
    "        output = F.relu(self.d1(output))\n",
    "        output = F.relu(self.d2(output))\n",
    "\n",
    "        output = self.o1(output)\n",
    "\n",
    "        distribution = Categorical(F.softmax(output, dim=-1))\n",
    "        return distribution\n"
   ]
  },
  {
   "cell_type": "markdown",
   "metadata": {
    "id": "KX598RbbkUhh"
   },
   "source": [
    "# **Modelo do Crítico**\n",
    "\n",
    "O crítico vai receber o estado do gym e retornar uma avaliação do \"valor\" que atribui a cena específica. Este valor tem o objetivo de complementar a métrica de valor oferecida pelo gym para ajudar a determinar a perda no treinamento do modelo do ator. \n",
    "\n",
    "Se entendemos corretamente, o dá uma recompensa é \"1\" por passo. Em outras palavras, a recompensa é o tempo (em steps) que o modelo consegue manter o bastão equilibrado. Em tese, o modelo do crítico pode evoluir para oferecer uma métrica um pouco mais útil para o treinamento do ator. Coisas como: fique longe das bordas, não deixe o bastão inclinar demais e coisas do gênero. \n",
    "\n",
    "Nós mantivemos o crítico trabalhando pelo objeto de estado do gym pois o treinamento ficou muito pesado com os dois pegando pela imagem. De toda forma seria apenas o caso de copiar e colar a mesma estrutura do modelo aqui. "
   ]
  },
  {
   "cell_type": "code",
   "execution_count": null,
   "metadata": {
    "id": "cszd5HvPkdKG"
   },
   "outputs": [],
   "source": [
    "class Critic(nn.Module):\n",
    "\n",
    "    def __init__(self, state_size, action_size):\n",
    "        super(Critic, self).__init__()\n",
    "        self.state_size = state_size\n",
    "        self.action_size = action_size\n",
    "        self.linear1 = nn.Linear(self.state_size, 128)\n",
    "        self.linear2 = nn.Linear(128, 256)\n",
    "        self.linear3 = nn.Linear(256, 1)\n",
    "        \n",
    "    def forward(self, state):\n",
    "        output = F.relu(self.linear1(state))\n",
    "        output = F.relu(self.linear2(output))\n",
    "        value = self.linear3(output)\n",
    "        return value\n"
   ]
  },
  {
   "cell_type": "markdown",
   "metadata": {
    "id": "eGUbh1j2oRqN"
   },
   "source": [
    "# **Loop de treinamento**\n",
    "\n",
    "Nesse loop o histórico de replay não ficou em uma classe, mas pulverizado em muitas listas. Não revisamos a fundo, mas nos parece que a lógica está naquela linha da atenuação das recompensas próximo ao fim do episódio e cálculos das perdas (loss) do modelo. "
   ]
  },
  {
   "cell_type": "code",
   "execution_count": null,
   "metadata": {
    "colab": {
     "base_uri": "https://localhost:8080/",
     "height": 1000
    },
    "id": "7phJaPyJomZT",
    "outputId": "261601d8-b382-4ac7-dc77-ac9f1e62d108"
   },
   "outputs": [
    {
     "name": "stdout",
     "output_type": "stream",
     "text": [
      "A informação abaixo será atualizada a cada 100 interações\n",
      "Iteração: 8400 score: 38\n"
     ]
    },
    {
     "name": "stderr",
     "output_type": "stream",
     "text": [
      "Clipping input data to the valid range for imshow with RGB data ([0..1] for floats or [0..255] for integers).\n"
     ]
    },
    {
     "data": {
      "image/png": "[encoded data removed]",
      "text/plain": [
       "<Figure size 1440x2016 with 40 Axes>"
      ]
     },
     "metadata": {
      "needs_background": "light"
     },
     "output_type": "display_data"
    },
    {
     "name": "stdout",
     "output_type": "stream",
     "text": [
      "Iteration: 8401, Score: 11\n",
      "Iteration: 8402, Score: 12\n",
      "Iteration: 8403, Score: 13\n",
      "Iteration: 8404, Score: 24\n",
      "Iteration: 8405, Score: 31\n",
      "Iteration: 8406, Score: 23\n",
      "Iteration: 8407, Score: 12\n",
      "Iteration: 8408, Score: 13\n",
      "Iteration: 8409, Score: 20\n",
      "Iteration: 8410, Score: 17\n",
      "Iteration: 8411, Score: 19\n",
      "Iteration: 8412, Score: 28\n",
      "Iteration: 8413, Score: 8\n",
      "Iteration: 8414, Score: 14\n",
      "Iteration: 8415, Score: 28\n",
      "Iteration: 8416, Score: 15\n",
      "Iteration: 8417, Score: 14\n",
      "Iteration: 8418, Score: 26\n",
      "Iteration: 8419, Score: 39\n",
      "Iteration: 8420, Score: 21\n",
      "Iteration: 8421, Score: 41\n",
      "Iteration: 8422, Score: 12\n",
      "Iteration: 8423, Score: 10\n",
      "Iteration: 8424, Score: 13\n",
      "Iteration: 8425, Score: 13\n",
      "Iteration: 8426, Score: 10\n",
      "Iteration: 8427, Score: 15\n",
      "Iteration: 8428, Score: 8\n",
      "Iteration: 8429, Score: 30\n",
      "Iteration: 8430, Score: 30\n",
      "Iteration: 8431, Score: 20\n",
      "Iteration: 8432, Score: 9\n",
      "Iteration: 8433, Score: 13\n",
      "Iteration: 8434, Score: 20\n",
      "Iteration: 8435, Score: 13\n",
      "Iteration: 8436, Score: 31\n",
      "Iteration: 8437, Score: 46\n",
      "Iteration: 8438, Score: 14\n",
      "Iteration: 8439, Score: 18\n",
      "Iteration: 8440, Score: 25\n"
     ]
    }
   ],
   "source": [
    "# Função auxiliar que atenua a recompensa com a proximdade do fim do episódio\n",
    "def compute_returns(next_value, rewards, masks, gamma=0.99):\n",
    "    R = next_value\n",
    "    returns = []\n",
    "    for step in reversed(range(len(rewards))):\n",
    "        R = rewards[step] + gamma * R * masks[step]\n",
    "        returns.insert(0, R)\n",
    "    return returns\n",
    "\n",
    "def trainIters(actor, critic, n_iters):\n",
    "\n",
    "    optimizerA = optim.Adam(actor.parameters(),lr=0.000001)\n",
    "    optimizerC = optim.Adam(critic.parameters(),lr=0.0001)\n",
    "    \n",
    "    # loop: para cada episódio execute:    \n",
    "    for iter in range(n_iters):\n",
    "\n",
    "        state = env.reset()\n",
    "          \n",
    "        tela = extractImage(env).to(device)\n",
    "\n",
    "        log_probs = []\n",
    "        values = []\n",
    "        rewards = []\n",
    "        masks = []\n",
    "        entropy = 0\n",
    "        env.reset()\n",
    "\n",
    "        log_screens = []\n",
    "\n",
    "        # loop: corpo do episódio \n",
    "        for i in count():\n",
    "\n",
    "            env.render()        \n",
    "     \n",
    "            state = torch.FloatTensor(state).to(device)            \n",
    "            \n",
    "            # consulta o ator para obter a informação da distribuição de probabilidades das ações\n",
    "            dist = actor(tela)\n",
    "\n",
    "            # consulta o crítico para obter a informação de valor do estado atual\n",
    "            value = critic(state)\n",
    "            \n",
    "            # executa a próxima ação\n",
    "            action = dist.sample()                        \n",
    "            next_state, reward, done, _ = env.step(action.cpu().numpy()[0])\n",
    "\n",
    "            if( iter % 100 == 0 ): log_screens.append( { 'i': i, 'action': str(action.cpu().numpy()[0]), 'tela': captureScreen(env), 'reward': reward } )\n",
    "\n",
    "            next_tela = extractImage(env).to(device)\n",
    "     \n",
    "            # efetua os cálculos preliminares e armazena os resultados para o treinamento posterior\n",
    "            log_prob = dist.log_prob(action).unsqueeze(0)\n",
    "            entropy += dist.entropy().mean()\n",
    "\n",
    "            log_probs.append(log_prob)\n",
    "            values.append(value)\n",
    "            rewards.append(torch.tensor([reward], dtype=torch.float, device=device))\n",
    "            masks.append(torch.tensor([1-done], dtype=torch.float, device=device))\n",
    "\n",
    "            state = next_state\n",
    "            tela = next_tela\n",
    "\n",
    "            if done:\n",
    "                if( iter % 100 == 0 ): log_screens.append( { 'i': i, 'action': 'Game Over', 'tela': captureScreenRed(env), 'reward': 0 } )\n",
    "                print('Iteration: {}, Score: {}'.format(iter, i))\n",
    "                scoreFinal=i\n",
    "                break\n",
    "\n",
    "        # Terminou o episódio        \n",
    "        # Treina o modelo    \n",
    "         \n",
    "        # Atualiza estado e valor            \n",
    "        next_state = torch.FloatTensor(next_state).to(device)\n",
    "        next_value = critic(next_state)\n",
    "\n",
    "        # Aplica a lógica do gamma \n",
    "        returns = compute_returns(next_value, rewards, masks)\n",
    "        \n",
    "        log_probs = torch.cat(log_probs)\n",
    "        returns = torch.cat(returns).detach()\n",
    "        values = torch.cat(values)\n",
    "                    \n",
    "        advantage = returns - values\n",
    "        actor_loss = -(log_probs * advantage.detach()).mean() \n",
    "                    # media quadráticas advantage\n",
    "        critic_loss = advantage.pow(2).mean()    \n",
    "\n",
    "        optimizerA.zero_grad()\n",
    "        optimizerC.zero_grad()\n",
    "        actor_loss.backward()\n",
    "        critic_loss.backward()\n",
    "        optimizerA.step()\n",
    "        optimizerC.step()\n",
    "\n",
    "        torch.cuda.empty_cache()\n",
    "\n",
    "        if( iter % 100 == 0 ):            \n",
    "            cols = 5\n",
    "            rows = math.ceil(len(log_screens)/cols)\n",
    "            if( rows != 0 ):     \n",
    "\n",
    "                clear_output(wait=True)\n",
    "                print( f'A informação abaixo será atualizada a cada 100 interações')\n",
    "                print( f'Iteração: {iter} score: {scoreFinal}' )\n",
    "\n",
    "                fig, axs = plt.subplots(ncols=cols,nrows=rows,squeeze=True,figsize=(4*cols,3.5*rows))\n",
    "                \n",
    "                for row, axr in enumerate(axs):\n",
    "                \n",
    "                    for col, ax in enumerate(axr):\n",
    "\n",
    "                        i = row*cols+col\n",
    "\n",
    "                        if( i < len(log_screens)):\n",
    "                            log_item = log_screens[i]\n",
    "                            ax.imshow( log_item[\"tela\"] )                    \n",
    "                            ax.set_title( f'r={log_item[\"reward\"]} a={log_item[\"action\"]}')\n",
    "                        \n",
    "                        ax.get_xaxis().set_visible(False)\n",
    "                        ax.get_yaxis().set_visible(False)\n",
    "\n",
    "                #plt.suptitle(f'Iteração: {iter} Score: {scoreFinal}')       \n",
    "                plt.tight_layout()\n",
    "                plt.show()      \n",
    "   \n",
    "    torch.save(actor, 'model/actor.pkl')\n",
    "    torch.save(critic, 'model/critic.pkl')\n",
    "    env.close()\n",
    "\n",
    "\n",
    "    \n",
    "actor = Actor(image_size,action_size).to(device)\n",
    "critic = Critic(state_size, action_size).to(device)        \n",
    "\n",
    "if os.path.exists('model/actor.pkl'):\n",
    "  actor = torch.load('model/actor.pkl')\n",
    "  print('Actor Model loaded')\n",
    "\n",
    "if os.path.exists('model/critic.pkl'):\n",
    "  critic = torch.load('model/critic.pkl')\n",
    "  print('Critic Model loaded')    \n",
    "\n",
    "trainIters(actor, critic, n_iters=10000)\n",
    "\n",
    "      "
   ]
  }
 ],
 "metadata": {
  "colab": {
   "collapsed_sections": [],
   "name": "ReinforcementLearningLista3Exercicio2.ipynb",
   "provenance": []
  },
  "kernelspec": {
   "display_name": "Python 3 (ipykernel)",
   "language": "python",
   "name": "python3"
  },
  "language_info": {
   "codemirror_mode": {
    "name": "ipython",
    "version": 3
   },
   "file_extension": ".py",
   "mimetype": "text/x-python",
   "name": "python",
   "nbconvert_exporter": "python",
   "pygments_lexer": "ipython3",
   "version": "3.10.4"
  }
 },
 "nbformat": 4,
 "nbformat_minor": 4
}
