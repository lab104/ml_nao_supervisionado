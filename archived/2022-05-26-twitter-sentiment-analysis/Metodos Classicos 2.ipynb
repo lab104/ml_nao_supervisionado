{
 "cells": [
  {
   "cell_type": "markdown",
   "id": "629d564e-2d0c-47e9-9c1a-ec86dc29d737",
   "metadata": {},
   "source": [
    "# Instituto de Educação Superior de Brası́lia – IESB\n",
    "## Pós-Graduação em Inteligência Artificial\n",
    "### Disciplina de Computação Cognitiva 3 / Turma 2021-1\n",
    "#### Trabalho Final - Análise de Sentimento\n",
    "\n",
    "                          EQUIPE:\n",
    "                          - LUCAS DE SOUSA BRITO, MAT:2186330019, TURMA: 2021-1\n",
    "                          - PABLO NOGUEIRA OLIVEIRA, MAT:2186330027, TURMA: 2021-1\n",
    "                          - MATHEUS BARBOSA OLIVEIRA, MAT:2186330037, TURMA: 2021-1"
   ]
  },
  {
   "cell_type": "markdown",
   "id": "dbaa4b3d",
   "metadata": {
    "id": "dbaa4b3d",
    "papermill": {
     "duration": 0.013983,
     "end_time": "2022-05-23T21:42:19.432623",
     "exception": false,
     "start_time": "2022-05-23T21:42:19.418640",
     "status": "completed"
    },
    "tags": []
   },
   "source": [
    "# Análise de sentimento da base do twitter Sentiment140\n",
    "\n",
    "### Dados de Origem\n",
    "\n",
    "* http://help.sentiment140.com/for-students\n",
    "\n",
    "| sentiment  | id | date | query_string | user | text\n",
    "| ---        | -- | -    | -            | -    | ---\n",
    "| 0=negativo | -  | -    | -            | -    | the original twitter message\n",
    "| 2=neutro   | -  | -    | -            | -    | \n",
    "| 4=positivo | -  | -    | -            | -    |\n",
    "\n",
    "\n",
    "```\n",
    "\n"
   ]
  },
  {
   "cell_type": "code",
   "execution_count": 1,
   "id": "2f982a01",
   "metadata": {
    "_kg_hide-input": true,
    "id": "2f982a01",
    "jupyter": {
     "source_hidden": true
    },
    "papermill": {
     "duration": 0.022259,
     "end_time": "2022-05-23T21:42:19.467763",
     "exception": false,
     "start_time": "2022-05-23T21:42:19.445504",
     "status": "completed"
    },
    "tags": []
   },
   "outputs": [],
   "source": [
    "import os\n",
    "os.environ[\"CUDA_VISIBLE_DEVICES\"] = \"-1\""
   ]
  },
  {
   "cell_type": "code",
   "execution_count": 2,
   "id": "0bf7bd3a",
   "metadata": {
    "_kg_hide-input": true,
    "id": "0bf7bd3a",
    "jupyter": {
     "source_hidden": true
    },
    "papermill": {
     "duration": 4.684439,
     "end_time": "2022-05-23T21:42:24.164782",
     "exception": false,
     "start_time": "2022-05-23T21:42:19.480343",
     "status": "completed"
    },
    "tags": []
   },
   "outputs": [],
   "source": [
    "import pandas as pd\n",
    "import tensorflow as tf\n",
    "import numpy as np\n",
    "\n",
    "tf.random.set_seed(129783)\n",
    "np.random.seed(3213)"
   ]
  },
  {
   "cell_type": "markdown",
   "id": "be955320",
   "metadata": {
    "id": "be955320",
    "papermill": {
     "duration": 0.012492,
     "end_time": "2022-05-23T21:42:24.190494",
     "exception": false,
     "start_time": "2022-05-23T21:42:24.178002",
     "status": "completed"
    },
    "tags": []
   },
   "source": [
    "# Importação\n",
    "\n",
    "Dados de origem: \n",
    "* http://help.sentiment140.com/for-students\n",
    "* colunas:\n",
    "   * sentiment (0=negativo, 2=neutro, 4=positivo)\n",
    "   * id\n",
    "   * date\n",
    "   * query_string\n",
    "   * user\n",
    "   * text\n",
    "\n",
    "Para este exercício:\n",
    "* apenas as colunas sentiment e text serão mantidas\n",
    "* sentimentos neutros serão descartados\n",
    "* sentimentos serão padronizados como 0=negativo e 1=positivo\n"
   ]
  },
  {
   "cell_type": "code",
   "execution_count": 3,
   "id": "55d3478a",
   "metadata": {
    "colab": {
     "base_uri": "https://localhost:8080/",
     "height": 424
    },
    "id": "55d3478a",
    "jupyter": {
     "source_hidden": true
    },
    "outputId": "167651c0-d770-44ad-c26e-e3ac0c3e822b",
    "papermill": {
     "duration": 7.151467,
     "end_time": "2022-05-23T21:42:31.354779",
     "exception": false,
     "start_time": "2022-05-23T21:42:24.203312",
     "status": "completed"
    },
    "tags": []
   },
   "outputs": [
    {
     "data": {
      "text/html": [
       "<div>\n",
       "<style scoped>\n",
       "    .dataframe tbody tr th:only-of-type {\n",
       "        vertical-align: middle;\n",
       "    }\n",
       "\n",
       "    .dataframe tbody tr th {\n",
       "        vertical-align: top;\n",
       "    }\n",
       "\n",
       "    .dataframe thead th {\n",
       "        text-align: right;\n",
       "    }\n",
       "</style>\n",
       "<table border=\"1\" class=\"dataframe\">\n",
       "  <thead>\n",
       "    <tr style=\"text-align: right;\">\n",
       "      <th></th>\n",
       "      <th>sentiment</th>\n",
       "      <th>text</th>\n",
       "    </tr>\n",
       "  </thead>\n",
       "  <tbody>\n",
       "    <tr>\n",
       "      <th>0</th>\n",
       "      <td>1</td>\n",
       "      <td>@switchfoot http://twitpic.com/2y1zl - Awww, t...</td>\n",
       "    </tr>\n",
       "    <tr>\n",
       "      <th>1</th>\n",
       "      <td>1</td>\n",
       "      <td>is upset that he can't update his Facebook by ...</td>\n",
       "    </tr>\n",
       "    <tr>\n",
       "      <th>2</th>\n",
       "      <td>1</td>\n",
       "      <td>@Kenichan I dived many times for the ball. Man...</td>\n",
       "    </tr>\n",
       "    <tr>\n",
       "      <th>3</th>\n",
       "      <td>1</td>\n",
       "      <td>my whole body feels itchy and like its on fire</td>\n",
       "    </tr>\n",
       "    <tr>\n",
       "      <th>4</th>\n",
       "      <td>1</td>\n",
       "      <td>@nationwideclass no, it's not behaving at all....</td>\n",
       "    </tr>\n",
       "    <tr>\n",
       "      <th>...</th>\n",
       "      <td>...</td>\n",
       "      <td>...</td>\n",
       "    </tr>\n",
       "    <tr>\n",
       "      <th>1599995</th>\n",
       "      <td>0</td>\n",
       "      <td>Just woke up. Having no school is the best fee...</td>\n",
       "    </tr>\n",
       "    <tr>\n",
       "      <th>1599996</th>\n",
       "      <td>0</td>\n",
       "      <td>TheWDB.com - Very cool to hear old Walt interv...</td>\n",
       "    </tr>\n",
       "    <tr>\n",
       "      <th>1599997</th>\n",
       "      <td>0</td>\n",
       "      <td>Are you ready for your MoJo Makeover? Ask me f...</td>\n",
       "    </tr>\n",
       "    <tr>\n",
       "      <th>1599998</th>\n",
       "      <td>0</td>\n",
       "      <td>Happy 38th Birthday to my boo of alll time!!! ...</td>\n",
       "    </tr>\n",
       "    <tr>\n",
       "      <th>1599999</th>\n",
       "      <td>0</td>\n",
       "      <td>happy #charitytuesday @theNSPCC @SparksCharity...</td>\n",
       "    </tr>\n",
       "  </tbody>\n",
       "</table>\n",
       "<p>1600000 rows × 2 columns</p>\n",
       "</div>"
      ],
      "text/plain": [
       "         sentiment                                               text\n",
       "0                1  @switchfoot http://twitpic.com/2y1zl - Awww, t...\n",
       "1                1  is upset that he can't update his Facebook by ...\n",
       "2                1  @Kenichan I dived many times for the ball. Man...\n",
       "3                1    my whole body feels itchy and like its on fire \n",
       "4                1  @nationwideclass no, it's not behaving at all....\n",
       "...            ...                                                ...\n",
       "1599995          0  Just woke up. Having no school is the best fee...\n",
       "1599996          0  TheWDB.com - Very cool to hear old Walt interv...\n",
       "1599997          0  Are you ready for your MoJo Makeover? Ask me f...\n",
       "1599998          0  Happy 38th Birthday to my boo of alll time!!! ...\n",
       "1599999          0  happy #charitytuesday @theNSPCC @SparksCharity...\n",
       "\n",
       "[1600000 rows x 2 columns]"
      ]
     },
     "execution_count": 3,
     "metadata": {},
     "output_type": "execute_result"
    }
   ],
   "source": [
    "def bloco():\n",
    "    \n",
    "    global df_original\n",
    "    \n",
    "    df_cols = ['sentiment','id','date','query_string','user','text']\n",
    "\n",
    "    df_original = pd.read_csv(\n",
    "        \"training.1600000.processed.noemoticon.csv\",\n",
    "        header=None, \n",
    "        names=df_cols,\n",
    "        encoding = \"ISO-8859-1\"\n",
    "    )\n",
    "\n",
    "    df_original.drop(\n",
    "        ['id','date','query_string','user'],\n",
    "        axis=1,\n",
    "        inplace=True\n",
    "    )\n",
    "    df_original = df_original[ df_original['sentiment'] != 2 ] \n",
    "    df_original['sentiment'] = df_original['sentiment'].apply( lambda x: 1 if x==0 else 0 )\n",
    "    return df_original\n",
    "\n",
    "bloco()"
   ]
  },
  {
   "cell_type": "markdown",
   "id": "652e0de3",
   "metadata": {
    "id": "652e0de3",
    "papermill": {
     "duration": 0.012591,
     "end_time": "2022-05-23T21:42:31.380663",
     "exception": false,
     "start_time": "2022-05-23T21:42:31.368072",
     "status": "completed"
    },
    "tags": []
   },
   "source": [
    "# Padronização (1)\n",
    "\n",
    "* Parte 1\n",
    "  * remove todas as tags\n",
    "  * remove urls\n",
    "  * remove identificadores de usuários \n",
    "  * remove caracteres unicode inválidos\n",
    "  * remove carcteres não textuais\n",
    "  * transforma tudo para minúsculas\n",
    "* Parte 2\n",
    "  * tokeniza usando o keras\n",
    "* Parte 3\n",
    "  * separa base de treinamento e de teste"
   ]
  },
  {
   "cell_type": "code",
   "execution_count": 4,
   "id": "8dcaf66e",
   "metadata": {
    "colab": {
     "base_uri": "https://localhost:8080/",
     "height": 468
    },
    "id": "8dcaf66e",
    "outputId": "1c8a9d9c-1d53-4309-81a3-06a31408b0b0",
    "papermill": {
     "duration": 82.31875,
     "end_time": "2022-05-23T21:43:53.712228",
     "exception": false,
     "start_time": "2022-05-23T21:42:31.393478",
     "status": "completed"
    },
    "tags": []
   },
   "outputs": [
    {
     "data": {
      "text/html": [
       "<div>\n",
       "<style scoped>\n",
       "    .dataframe tbody tr th:only-of-type {\n",
       "        vertical-align: middle;\n",
       "    }\n",
       "\n",
       "    .dataframe tbody tr th {\n",
       "        vertical-align: top;\n",
       "    }\n",
       "\n",
       "    .dataframe thead th {\n",
       "        text-align: right;\n",
       "    }\n",
       "</style>\n",
       "<table border=\"1\" class=\"dataframe\">\n",
       "  <thead>\n",
       "    <tr style=\"text-align: right;\">\n",
       "      <th></th>\n",
       "      <th>sentiment</th>\n",
       "      <th>text</th>\n",
       "      <th>text2</th>\n",
       "      <th>text3</th>\n",
       "    </tr>\n",
       "  </thead>\n",
       "  <tbody>\n",
       "    <tr>\n",
       "      <th>562641</th>\n",
       "      <td>1</td>\n",
       "      <td>Eyes wide shzzzzzzzzzzzzzzzzzzzzzzzzzzzzzzzzzz...</td>\n",
       "      <td>eyes wide shzzzzzzzzzzzzzzzzzzzzzzzzzzzzzzzzzz...</td>\n",
       "      <td>[0, 0, 0, 0, 0, 0, 0, 0, 0, 0, 0, 0, 0, 0, 0, ...</td>\n",
       "    </tr>\n",
       "    <tr>\n",
       "      <th>1596542</th>\n",
       "      <td>0</td>\n",
       "      <td>@SarY_ChaN</td>\n",
       "      <td>chan</td>\n",
       "      <td>[0, 0, 0, 0, 0, 0, 0, 0, 0, 0, 0, 0, 0, 0, 0, ...</td>\n",
       "    </tr>\n",
       "    <tr>\n",
       "      <th>557121</th>\n",
       "      <td>1</td>\n",
       "      <td>Well, the question as to whether I should get ...</td>\n",
       "      <td>well  the question as to whether i should get ...</td>\n",
       "      <td>[0, 0, 0, 0, 0, 0, 0, 0, 0, 0, 0, 0, 1, 1, 0, ...</td>\n",
       "    </tr>\n",
       "    <tr>\n",
       "      <th>1176192</th>\n",
       "      <td>0</td>\n",
       "      <td>Picnic in the sun</td>\n",
       "      <td>picnic in the sun</td>\n",
       "      <td>[0, 0, 0, 0, 0, 0, 0, 0, 0, 0, 0, 0, 0, 0, 0, ...</td>\n",
       "    </tr>\n",
       "    <tr>\n",
       "      <th>1400171</th>\n",
       "      <td>0</td>\n",
       "      <td>Good morning! i'm outside and its a beautiful ...</td>\n",
       "      <td>good morning  i m outside and its a beautiful ...</td>\n",
       "      <td>[0, 0, 0, 0, 0, 0, 0, 0, 2, 0, 0, 0, 0, 0, 0, ...</td>\n",
       "    </tr>\n",
       "    <tr>\n",
       "      <th>1092245</th>\n",
       "      <td>0</td>\n",
       "      <td>@smoochyfroggy You wellcome! Have a nice Day!</td>\n",
       "      <td>you wellcome  have a nice day</td>\n",
       "      <td>[0, 0, 0, 0, 0, 0, 0, 0, 0, 0, 0, 0, 0, 0, 0, ...</td>\n",
       "    </tr>\n",
       "    <tr>\n",
       "      <th>213310</th>\n",
       "      <td>1</td>\n",
       "      <td>Why is it so impossible to get an egg cream he...</td>\n",
       "      <td>why is it so impossible to get an egg cream he...</td>\n",
       "      <td>[0, 0, 0, 0, 0, 0, 0, 1, 0, 0, 0, 0, 0, 1, 0, ...</td>\n",
       "    </tr>\n",
       "    <tr>\n",
       "      <th>1026205</th>\n",
       "      <td>0</td>\n",
       "      <td>lady at olive garden garden ask me if i cared ...</td>\n",
       "      <td>lady at olive garden garden ask me if i cared ...</td>\n",
       "      <td>[0, 0, 0, 0, 0, 0, 0, 0, 0, 0, 0, 0, 0, 1, 0, ...</td>\n",
       "    </tr>\n",
       "    <tr>\n",
       "      <th>842287</th>\n",
       "      <td>0</td>\n",
       "      <td>Looking for domains. Great deals only.</td>\n",
       "      <td>looking for domains  great deals only</td>\n",
       "      <td>[0, 0, 0, 0, 0, 0, 0, 0, 0, 0, 0, 0, 0, 0, 0, ...</td>\n",
       "    </tr>\n",
       "    <tr>\n",
       "      <th>292903</th>\n",
       "      <td>1</td>\n",
       "      <td>not wasting my money on a piercing that has a ...</td>\n",
       "      <td>not wasting my money on a piercing that has a ...</td>\n",
       "      <td>[0, 0, 0, 0, 0, 0, 0, 0, 0, 0, 0, 0, 0, 0, 0, ...</td>\n",
       "    </tr>\n",
       "    <tr>\n",
       "      <th>137835</th>\n",
       "      <td>1</td>\n",
       "      <td>@rishil I think I'm the bigger geek as I found...</td>\n",
       "      <td>i think i m the bigger geek as i found that g...</td>\n",
       "      <td>[0, 0, 0, 0, 0, 0, 0, 0, 0, 0, 0, 0, 1, 0, 0, ...</td>\n",
       "    </tr>\n",
       "    <tr>\n",
       "      <th>1468447</th>\n",
       "      <td>0</td>\n",
       "      <td>the only person who Jackson Rathbone (jasper) ...</td>\n",
       "      <td>the only person who jackson rathbone  jasper  ...</td>\n",
       "      <td>[1, 0, 0, 0, 0, 0, 0, 0, 0, 0, 0, 0, 0, 0, 0, ...</td>\n",
       "    </tr>\n",
       "    <tr>\n",
       "      <th>692576</th>\n",
       "      <td>1</td>\n",
       "      <td>My Indian place is at farmer's market today!!!...</td>\n",
       "      <td>my indian place is at farmer s market today   ...</td>\n",
       "      <td>[0, 0, 0, 0, 0, 0, 0, 0, 0, 0, 0, 0, 0, 1, 0, ...</td>\n",
       "    </tr>\n",
       "    <tr>\n",
       "      <th>910387</th>\n",
       "      <td>0</td>\n",
       "      <td>@fancyfantastic you know I love you.</td>\n",
       "      <td>you know i love you</td>\n",
       "      <td>[0, 0, 0, 0, 0, 0, 0, 0, 0, 0, 0, 0, 0, 0, 0, ...</td>\n",
       "    </tr>\n",
       "    <tr>\n",
       "      <th>1039469</th>\n",
       "      <td>0</td>\n",
       "      <td>don't want to go to work but i have to pay off...</td>\n",
       "      <td>don t want to go to work but i have to pay off...</td>\n",
       "      <td>[0, 0, 0, 0, 0, 0, 0, 0, 1, 0, 0, 0, 0, 0, 0, ...</td>\n",
       "    </tr>\n",
       "  </tbody>\n",
       "</table>\n",
       "</div>"
      ],
      "text/plain": [
       "         sentiment                                               text  \\\n",
       "562641           1  Eyes wide shzzzzzzzzzzzzzzzzzzzzzzzzzzzzzzzzzz...   \n",
       "1596542          0                                      @SarY_ChaN      \n",
       "557121           1  Well, the question as to whether I should get ...   \n",
       "1176192          0                                 Picnic in the sun    \n",
       "1400171          0  Good morning! i'm outside and its a beautiful ...   \n",
       "1092245          0     @smoochyfroggy You wellcome! Have a nice Day!    \n",
       "213310           1  Why is it so impossible to get an egg cream he...   \n",
       "1026205          0  lady at olive garden garden ask me if i cared ...   \n",
       "842287           0            Looking for domains. Great deals only.    \n",
       "292903           1  not wasting my money on a piercing that has a ...   \n",
       "137835           1  @rishil I think I'm the bigger geek as I found...   \n",
       "1468447          0  the only person who Jackson Rathbone (jasper) ...   \n",
       "692576           1  My Indian place is at farmer's market today!!!...   \n",
       "910387           0              @fancyfantastic you know I love you.    \n",
       "1039469          0  don't want to go to work but i have to pay off...   \n",
       "\n",
       "                                                     text2  \\\n",
       "562641   eyes wide shzzzzzzzzzzzzzzzzzzzzzzzzzzzzzzzzzz...   \n",
       "1596542                                            chan      \n",
       "557121   well  the question as to whether i should get ...   \n",
       "1176192                                 picnic in the sun    \n",
       "1400171  good morning  i m outside and its a beautiful ...   \n",
       "1092245                    you wellcome  have a nice day     \n",
       "213310   why is it so impossible to get an egg cream he...   \n",
       "1026205  lady at olive garden garden ask me if i cared ...   \n",
       "842287             looking for domains  great deals only     \n",
       "292903   not wasting my money on a piercing that has a ...   \n",
       "137835    i think i m the bigger geek as i found that g...   \n",
       "1468447  the only person who jackson rathbone  jasper  ...   \n",
       "692576   my indian place is at farmer s market today   ...   \n",
       "910387                               you know i love you     \n",
       "1039469  don t want to go to work but i have to pay off...   \n",
       "\n",
       "                                                     text3  \n",
       "562641   [0, 0, 0, 0, 0, 0, 0, 0, 0, 0, 0, 0, 0, 0, 0, ...  \n",
       "1596542  [0, 0, 0, 0, 0, 0, 0, 0, 0, 0, 0, 0, 0, 0, 0, ...  \n",
       "557121   [0, 0, 0, 0, 0, 0, 0, 0, 0, 0, 0, 0, 1, 1, 0, ...  \n",
       "1176192  [0, 0, 0, 0, 0, 0, 0, 0, 0, 0, 0, 0, 0, 0, 0, ...  \n",
       "1400171  [0, 0, 0, 0, 0, 0, 0, 0, 2, 0, 0, 0, 0, 0, 0, ...  \n",
       "1092245  [0, 0, 0, 0, 0, 0, 0, 0, 0, 0, 0, 0, 0, 0, 0, ...  \n",
       "213310   [0, 0, 0, 0, 0, 0, 0, 1, 0, 0, 0, 0, 0, 1, 0, ...  \n",
       "1026205  [0, 0, 0, 0, 0, 0, 0, 0, 0, 0, 0, 0, 0, 1, 0, ...  \n",
       "842287   [0, 0, 0, 0, 0, 0, 0, 0, 0, 0, 0, 0, 0, 0, 0, ...  \n",
       "292903   [0, 0, 0, 0, 0, 0, 0, 0, 0, 0, 0, 0, 0, 0, 0, ...  \n",
       "137835   [0, 0, 0, 0, 0, 0, 0, 0, 0, 0, 0, 0, 1, 0, 0, ...  \n",
       "1468447  [1, 0, 0, 0, 0, 0, 0, 0, 0, 0, 0, 0, 0, 0, 0, ...  \n",
       "692576   [0, 0, 0, 0, 0, 0, 0, 0, 0, 0, 0, 0, 0, 1, 0, ...  \n",
       "910387   [0, 0, 0, 0, 0, 0, 0, 0, 0, 0, 0, 0, 0, 0, 0, ...  \n",
       "1039469  [0, 0, 0, 0, 0, 0, 0, 0, 1, 0, 0, 0, 0, 0, 0, ...  "
      ]
     },
     "execution_count": 4,
     "metadata": {},
     "output_type": "execute_result"
    }
   ],
   "source": [
    "#data_limit = 200000\n",
    "max_words = 1000\n",
    "max_len = 200\n",
    "\n",
    "def bloco():\n",
    "    \n",
    "    global df_original\n",
    "    global df_train\n",
    "    global df_test   \n",
    "   \n",
    "    # PARTE 1 - Limpa o texto \n",
    "    import re\n",
    "    pat1 = r'@[A-Za-z0-9]+'\n",
    "    pat2 = r'https?://[A-Za-z0-9./]+'\n",
    "    pat3 = r'<.*?>'\n",
    "    pat4 = r'&.*?;'\n",
    "    pat = r'|'.join((pat1, pat2, pat3, pat4))\n",
    "    def tweet_cleaner(text):       \n",
    "        text = re.sub(pat,'',text)\n",
    "        try:\n",
    "            text = text.decode(\"utf-8-sig\").replace(u\"\\ufffd\", \"?\")\n",
    "        except:\n",
    "            text = text\n",
    "        text = re.sub(\"[^a-zA-Z]\", \" \", text)\n",
    "        text = text.lower()\n",
    "        return text\n",
    "\n",
    "    df_original['text2'] = df_original['text'].apply( tweet_cleaner )\n",
    "\n",
    "    \n",
    "    # PARTE 2 - Tokeniza usando o Keras\n",
    "    #tokenizer = tf.keras.preprocessing.text.Tokenizer(num_words=max_words,lower=True, split=\" \")\n",
    "    #tokenizer.fit_on_texts(df_original['text2'])\n",
    "    #df_original['text3'] = tokenizer.texts_to_sequences(df_original['text2'])\n",
    "    #df_original['text4'] = tf.keras.preprocessing.sequence.pad_sequences(\n",
    "    #    df_original['text3'], \n",
    "    #    maxlen=max_len,\n",
    "    #    #padding='post',\n",
    "    #    #truncating='post'        \n",
    "    #).tolist()              \n",
    "    \n",
    "    global vectorizer\n",
    "    from sklearn.feature_extraction.text import CountVectorizer\n",
    "    vectorizer = CountVectorizer(max_features=200, min_df=5, max_df=0.7)\n",
    "    vectorizer.fit(df_original['text2']) \n",
    "\n",
    "    global df_example\n",
    "    df_example = df_original.sample(15)\n",
    "    df_example['text3'] = [ list(i) for i in vectorizer.transform( df_example['text2'] ).toarray() ]\n",
    "    df_example\n",
    "    \n",
    "    # PARTE 3 - Separa amostra de treinamento e de teste\n",
    "   \n",
    "    # 1 = train | 0 = test\n",
    "    df_original['rand'] = pd.Series([0,1]).sample(len(df_original), replace=True).array\n",
    "    \n",
    "    df_train_sz = 20000\n",
    "    df_train = df_original[ df_original[ 'rand' ] == 1 ]\n",
    "    df_train_positive = df_train[ df_train['sentiment'] == 0 ].sample(n=int(df_train_sz/2), replace=True)\n",
    "    df_train_negative = df_train[ df_train['sentiment'] == 1 ].sample(n=int(df_train_sz/2), replace=True)\n",
    "    df_train = pd.concat( [ df_train_negative, df_train_positive ] )    \n",
    "    df_train = df_train.sample(frac=1.0).reset_index(drop=True)\n",
    "        \n",
    "    df_test_sz = 40000\n",
    "    df_test = df_original[ df_original[ 'rand' ] == 0 ].sample(int(df_test_sz/2), replace=True)\n",
    "    df_test = df_test.sample(frac=1.0).reset_index(drop=True)    \n",
    "    \n",
    "bloco()\n",
    "df_example"
   ]
  },
  {
   "cell_type": "markdown",
   "id": "6320531a",
   "metadata": {
    "id": "6320531a",
    "papermill": {
     "duration": 0.013555,
     "end_time": "2022-05-23T21:43:53.739715",
     "exception": false,
     "start_time": "2022-05-23T21:43:53.726160",
     "status": "completed"
    },
    "tags": []
   },
   "source": [
    "Na tabela acima é possível ver os estagios da limpeza:\n",
    "* **text** contém o texto original da base \n",
    "* **text2** contém o texto após limpeza de tags, urls, nomes de usuário, números e minusculas\n",
    "* **text3** contém o texto codificado matriz de contadores\n"
   ]
  },
  {
   "cell_type": "markdown",
   "id": "8d4064ac",
   "metadata": {
    "id": "8d4064ac",
    "papermill": {
     "duration": 0.013515,
     "end_time": "2022-05-23T21:43:53.766929",
     "exception": false,
     "start_time": "2022-05-23T21:43:53.753414",
     "status": "completed"
    },
    "tags": []
   },
   "source": [
    "# Modelos - Clássicos"
   ]
  },
  {
   "cell_type": "code",
   "execution_count": 5,
   "id": "84daced6",
   "metadata": {
    "id": "84daced6",
    "papermill": {
     "duration": 0.481475,
     "end_time": "2022-05-23T21:43:54.262043",
     "exception": false,
     "start_time": "2022-05-23T21:43:53.780568",
     "status": "completed"
    },
    "tags": []
   },
   "outputs": [],
   "source": [
    "from sklearn.tree import DecisionTreeRegressor\n",
    "from sklearn.ensemble import BaggingRegressor\n",
    "from sklearn.naive_bayes import MultinomialNB\n",
    "from sklearn.linear_model import LogisticRegression\n",
    "\n",
    "# Aplicando o Bagging com Arvores de Decisão\n",
    "bag_model = BaggingRegressor(\n",
    "    base_estimator=DecisionTreeRegressor(),\n",
    "    n_estimators=100,\n",
    "    max_samples=0.7,\n",
    "    max_features=1.0,\n",
    "    bootstrap=True,\n",
    "    bootstrap_features=False,\n",
    "    random_state=123,\n",
    "    n_jobs=1,\n",
    "    verbose=True,\n",
    ")\n",
    "\n",
    "lr_model = LogisticRegression(random_state=0)\n",
    "nb_model = MultinomialNB()\n",
    "\n"
   ]
  },
  {
   "cell_type": "code",
   "execution_count": 6,
   "id": "704b4e3d",
   "metadata": {
    "colab": {
     "base_uri": "https://localhost:8080/"
    },
    "id": "704b4e3d",
    "jupyter": {
     "source_hidden": true
    },
    "outputId": "1b2dd3b7-b2a5-4146-9917-1e03ab491467",
    "papermill": {
     "duration": 0.361638,
     "end_time": "2022-05-23T21:43:54.812477",
     "exception": false,
     "start_time": "2022-05-23T21:43:54.450839",
     "status": "completed"
    },
    "tags": []
   },
   "outputs": [
    {
     "name": "stdout",
     "output_type": "stream",
     "text": [
      "X.shape=(20000, 200) y.shape=(20000,)\n"
     ]
    }
   ],
   "source": [
    "X_train = vectorizer.transform(df_train['text2'])\n",
    "y_train = df_train['sentiment'].values\n",
    "\n",
    "print( f'X.shape={X_train.shape} y.shape={y_train.shape}' )"
   ]
  },
  {
   "cell_type": "code",
   "execution_count": 7,
   "id": "Wf1T8_laZsYz",
   "metadata": {
    "colab": {
     "base_uri": "https://localhost:8080/"
    },
    "id": "Wf1T8_laZsYz",
    "jupyter": {
     "source_hidden": true
    },
    "outputId": "c50cea54-c4ce-43e7-f342-d55c8b744c87",
    "tags": []
   },
   "outputs": [
    {
     "name": "stderr",
     "output_type": "stream",
     "text": [
      "[Parallel(n_jobs=1)]: Using backend SequentialBackend with 1 concurrent workers.\n",
      "[Parallel(n_jobs=1)]: Done   1 out of   1 | elapsed:  1.7min finished\n"
     ]
    },
    {
     "data": {
      "text/html": [
       "<style>#sk-container-id-1 {color: black;background-color: white;}#sk-container-id-1 pre{padding: 0;}#sk-container-id-1 div.sk-toggleable {background-color: white;}#sk-container-id-1 label.sk-toggleable__label {cursor: pointer;display: block;width: 100%;margin-bottom: 0;padding: 0.3em;box-sizing: border-box;text-align: center;}#sk-container-id-1 label.sk-toggleable__label-arrow:before {content: \"▸\";float: left;margin-right: 0.25em;color: #696969;}#sk-container-id-1 label.sk-toggleable__label-arrow:hover:before {color: black;}#sk-container-id-1 div.sk-estimator:hover label.sk-toggleable__label-arrow:before {color: black;}#sk-container-id-1 div.sk-toggleable__content {max-height: 0;max-width: 0;overflow: hidden;text-align: left;background-color: #f0f8ff;}#sk-container-id-1 div.sk-toggleable__content pre {margin: 0.2em;color: black;border-radius: 0.25em;background-color: #f0f8ff;}#sk-container-id-1 input.sk-toggleable__control:checked~div.sk-toggleable__content {max-height: 200px;max-width: 100%;overflow: auto;}#sk-container-id-1 input.sk-toggleable__control:checked~label.sk-toggleable__label-arrow:before {content: \"▾\";}#sk-container-id-1 div.sk-estimator input.sk-toggleable__control:checked~label.sk-toggleable__label {background-color: #d4ebff;}#sk-container-id-1 div.sk-label input.sk-toggleable__control:checked~label.sk-toggleable__label {background-color: #d4ebff;}#sk-container-id-1 input.sk-hidden--visually {border: 0;clip: rect(1px 1px 1px 1px);clip: rect(1px, 1px, 1px, 1px);height: 1px;margin: -1px;overflow: hidden;padding: 0;position: absolute;width: 1px;}#sk-container-id-1 div.sk-estimator {font-family: monospace;background-color: #f0f8ff;border: 1px dotted black;border-radius: 0.25em;box-sizing: border-box;margin-bottom: 0.5em;}#sk-container-id-1 div.sk-estimator:hover {background-color: #d4ebff;}#sk-container-id-1 div.sk-parallel-item::after {content: \"\";width: 100%;border-bottom: 1px solid gray;flex-grow: 1;}#sk-container-id-1 div.sk-label:hover label.sk-toggleable__label {background-color: #d4ebff;}#sk-container-id-1 div.sk-serial::before {content: \"\";position: absolute;border-left: 1px solid gray;box-sizing: border-box;top: 0;bottom: 0;left: 50%;z-index: 0;}#sk-container-id-1 div.sk-serial {display: flex;flex-direction: column;align-items: center;background-color: white;padding-right: 0.2em;padding-left: 0.2em;position: relative;}#sk-container-id-1 div.sk-item {position: relative;z-index: 1;}#sk-container-id-1 div.sk-parallel {display: flex;align-items: stretch;justify-content: center;background-color: white;position: relative;}#sk-container-id-1 div.sk-item::before, #sk-container-id-1 div.sk-parallel-item::before {content: \"\";position: absolute;border-left: 1px solid gray;box-sizing: border-box;top: 0;bottom: 0;left: 50%;z-index: -1;}#sk-container-id-1 div.sk-parallel-item {display: flex;flex-direction: column;z-index: 1;position: relative;background-color: white;}#sk-container-id-1 div.sk-parallel-item:first-child::after {align-self: flex-end;width: 50%;}#sk-container-id-1 div.sk-parallel-item:last-child::after {align-self: flex-start;width: 50%;}#sk-container-id-1 div.sk-parallel-item:only-child::after {width: 0;}#sk-container-id-1 div.sk-dashed-wrapped {border: 1px dashed gray;margin: 0 0.4em 0.5em 0.4em;box-sizing: border-box;padding-bottom: 0.4em;background-color: white;}#sk-container-id-1 div.sk-label label {font-family: monospace;font-weight: bold;display: inline-block;line-height: 1.2em;}#sk-container-id-1 div.sk-label-container {text-align: center;}#sk-container-id-1 div.sk-container {/* jupyter's `normalize.less` sets `[hidden] { display: none; }` but bootstrap.min.css set `[hidden] { display: none !important; }` so we also need the `!important` here to be able to override the default hidden behavior on the sphinx rendered scikit-learn.org. See: https://github.com/scikit-learn/scikit-learn/issues/21755 */display: inline-block !important;position: relative;}#sk-container-id-1 div.sk-text-repr-fallback {display: none;}</style><div id=\"sk-container-id-1\" class=\"sk-top-container\"><div class=\"sk-text-repr-fallback\"><pre>MultinomialNB()</pre><b>In a Jupyter environment, please rerun this cell to show the HTML representation or trust the notebook. <br />On GitHub, the HTML representation is unable to render, please try loading this page with nbviewer.org.</b></div><div class=\"sk-container\" hidden><div class=\"sk-item\"><div class=\"sk-estimator sk-toggleable\"><input class=\"sk-toggleable__control sk-hidden--visually\" id=\"sk-estimator-id-1\" type=\"checkbox\" checked><label for=\"sk-estimator-id-1\" class=\"sk-toggleable__label sk-toggleable__label-arrow\">MultinomialNB</label><div class=\"sk-toggleable__content\"><pre>MultinomialNB()</pre></div></div></div></div></div>"
      ],
      "text/plain": [
       "MultinomialNB()"
      ]
     },
     "execution_count": 7,
     "metadata": {},
     "output_type": "execute_result"
    }
   ],
   "source": [
    "bag_model.fit(X_train, y_train)\n",
    "lr_model.fit(X_train, y_train)\n",
    "nb_model.fit(X_train, y_train)\n"
   ]
  },
  {
   "cell_type": "code",
   "execution_count": 8,
   "id": "1f6d101c",
   "metadata": {
    "id": "1f6d101c",
    "jupyter": {
     "source_hidden": true
    },
    "papermill": {
     "duration": 0.405961,
     "end_time": "2022-05-23T21:50:15.717400",
     "exception": false,
     "start_time": "2022-05-23T21:50:15.311439",
     "status": "completed"
    },
    "tags": []
   },
   "outputs": [],
   "source": [
    "def block(y_test, y_pred, title):\n",
    "    \n",
    "    global confusion_mtx\n",
    "    global confusion_mtx_pc\n",
    "    \n",
    "    confusion_mtx = tf.math.confusion_matrix( y_test, y_pred )\n",
    "\n",
    "    confusion_mtx = pd.DataFrame( confusion_mtx.numpy() )\n",
    "    confusion_mtx.loc['Total'] = confusion_mtx.sum(numeric_only=True) \n",
    "    confusion_mtx['total'] = confusion_mtx[0] + confusion_mtx[1]\n",
    "    \n",
    "    confusion_mtx_pc = confusion_mtx / len(y_test)\n",
    "    \n",
    "    fp = confusion_mtx.iloc[0,1] \n",
    "    fn = confusion_mtx.iloc[1,0]\n",
    "    tn = confusion_mtx.iloc[0,0]\n",
    "    tp = confusion_mtx.iloc[1,1] \n",
    "    \n",
    "    total = (tp+tn+fp+fn)\n",
    "    \n",
    "    acc       = (tp+tn)/(tp+tn+fp+fn)\n",
    "    recall    = tp/(tp+fn)\n",
    "    f1        = (2*acc*recall)/(acc+recall)\n",
    "    \n",
    "    fdr  = fp/(fp+tp)\n",
    "    fnr  = fn/(fn+tp)\n",
    "    \n",
    "    tpr = tp/(fn+tp)\n",
    "    ppv  = tp/(fp+tp)\n",
    "    \n",
    "    from IPython.display import display, HTML\n",
    "    display(HTML(f\"\"\"\n",
    "    \n",
    "        <style>\n",
    "           .luc_confusion_mtx td {{ background: white!IMPORTANT; border: 0pt !IMPORTANT; text-align: center!IMPORTANT }}           \n",
    "           td.luc_confusion_mtx_dp {{ width: 90pt; height: 90pt; background: #c0ffc0!IMPORTANT; border: 1pt solid black!IMPORTANT }} \n",
    "           td.luc_confusion_mtx_dn {{ width: 90pt; height: 90pt; background: #ffc0c0!IMPORTANT; border: 1pt solid black!IMPORTANT }}            \n",
    "        </style>\n",
    "        \n",
    "        <h4>{title}</h4>\n",
    "        <table class='luc_confusion_mtx'>\n",
    "        <tr>\n",
    "            <td></td>\n",
    "            <td></td>\n",
    "            <td colspan=2>Previsão</td>\n",
    "            <td></td>\n",
    "            <td rowspan=5 style='text-align: left!IMPORTANT'>\n",
    "                    Acurácia<br><big><big>(TP+TN)/(total)</big></big> = {tp+tn}/{total} = <big>{(tp+tn)*100.0/total:2.1f}%</big><br>\n",
    "                    <br><br>\n",
    "                    Considerando que as duas classes (0=sentimento negativo;1=sentimento positivo) tem igual \n",
    "                    valor para esta análise, é importante maximizar a diagonal verde / minimizar a diagonal vermelha,\n",
    "                    portanto os indicadores de Acurácia OU F1 são os mais indicados.<br>\n",
    "                    <br>\n",
    "                    Os indicadores de precisão e sensibilidade(recall) podem ser usados em conjunto, mas não são\n",
    "                    muito intuitivos para este conjunto de dados pois mensuram da perspectiva do \"sentimento positivo\".\n",
    "                    Em outras palavras, a sensibilidade indica quantos \"sentimentos positivos\" corretos foram encontrados\n",
    "                    e a \"precisão\" indica do total apontado pelo modelo como \"sentimento positivo\", quantos eram. \n",
    "            </td>\n",
    "        </tr>\n",
    "        <tr>\n",
    "            <td></td>\n",
    "            <td></td>\n",
    "            <td>Negativo</td>\n",
    "            <td>Positivo</td>\n",
    "            <td></td>            \n",
    "        </tr>\n",
    "        <tr>\n",
    "            <td rowspan=2>Real</td>\n",
    "            <td>Negativo</td>\n",
    "            <td class=\"luc_confusion_mtx_dp\"><big><big>TN</big></big><br>{tn}<br>{tn*100.0/total:2.1f}%</td>\n",
    "            <td class=\"luc_confusion_mtx_dn\"><big><big>FP</big></big><br>{fp}<br>{fp*100.0/total:2.1f}%</td>\n",
    "            <td>{tn+fp}</td>\n",
    "        </tr>        \n",
    "        <tr>\n",
    "            <td>Positivo</td>\n",
    "            <td class=\"luc_confusion_mtx_dn\"><big><big>FN</big></big><br>{fn}<br>{fn*100.0/total:2.1f}%</td>\n",
    "            <td class=\"luc_confusion_mtx_dp\"><big><big>TP</big></big><br>{tp}<br>{tp*100.0/total:2.1f}%</td>\n",
    "            <td>{fn+fp}</td>\n",
    "        </tr>  \n",
    "        <tr>\n",
    "            <td></td>\n",
    "            <td></td>\n",
    "            <td>{tn+fn}</td>\n",
    "            <td>{fp+tp}</td>\n",
    "            <td>{total}</td>\n",
    "        </tr>  \n",
    "        </table>    \n",
    "        \n",
    "        \n",
    "       \n",
    "    \"\"\"))        \n",
    "    \n",
    "    print( f'             Acurácia={acc*100.0:05.2f}% dos apontamentos positivos e negativos estão corretos' )\n",
    "    print( f' Recall/Sensibilidade={tpr*100.0:05.2f}% dos sentimentos positivos da base foram apontados' )   \n",
    "    print( f'             Precisão={ppv*100.0:05.2f}% dos sentimentos positivos apontados estão corretos' )    \n",
    "    print( f'             F1 Score={f1*100.0:05.2f}% média harmônica da acurácia e recall' )        \n",
    "        \n"
   ]
  },
  {
   "cell_type": "code",
   "execution_count": 9,
   "id": "9f1f8042",
   "metadata": {
    "colab": {
     "base_uri": "https://localhost:8080/"
    },
    "id": "9f1f8042",
    "jupyter": {
     "source_hidden": true
    },
    "outputId": "73bb09b5-fa0e-40ad-a2e7-54a36e4fee96",
    "papermill": {
     "duration": 24.377452,
     "end_time": "2022-05-23T21:50:14.947685",
     "exception": false,
     "start_time": "2022-05-23T21:49:50.570233",
     "status": "completed"
    },
    "tags": []
   },
   "outputs": [
    {
     "name": "stderr",
     "output_type": "stream",
     "text": [
      "[Parallel(n_jobs=1)]: Using backend SequentialBackend with 1 concurrent workers.\n",
      "[Parallel(n_jobs=1)]: Done   1 out of   1 | elapsed:    1.1s finished\n"
     ]
    }
   ],
   "source": [
    "X_test = vectorizer.transform( df_test['text2'] )\n",
    "y_test = df_test['sentiment'].values\n",
    "y_pred_bag = [ 1 if y_pred > 0.5 else 0 for y_pred in bag_model.predict(X_test) ]\n",
    "y_pred_lr = [ 1 if y_pred > 0.5 else 0 for y_pred in lr_model.predict(X_test) ]\n",
    "y_pred_nb = [ 1 if y_pred > 0.5 else 0 for y_pred in nb_model.predict(X_test) ]\n"
   ]
  },
  {
   "cell_type": "code",
   "execution_count": 10,
   "id": "89ff013e",
   "metadata": {
    "colab": {
     "base_uri": "https://localhost:8080/",
     "height": 1000
    },
    "id": "89ff013e",
    "jupyter": {
     "source_hidden": true
    },
    "outputId": "dc71454a-91e3-4378-ca7d-9de389170cc5",
    "papermill": {
     "duration": 0.36414,
     "end_time": "2022-05-23T21:50:16.467544",
     "exception": false,
     "start_time": "2022-05-23T21:50:16.103404",
     "status": "completed"
    },
    "tags": []
   },
   "outputs": [
    {
     "name": "stderr",
     "output_type": "stream",
     "text": [
      "2022-05-26 14:15:40.241031: E tensorflow/stream_executor/cuda/cuda_driver.cc:271] failed call to cuInit: CUDA_ERROR_NO_DEVICE: no CUDA-capable device is detected\n",
      "2022-05-26 14:15:40.241123: I tensorflow/stream_executor/cuda/cuda_diagnostics.cc:169] retrieving CUDA diagnostic information for host: lucas-n001\n",
      "2022-05-26 14:15:40.241138: I tensorflow/stream_executor/cuda/cuda_diagnostics.cc:176] hostname: lucas-n001\n",
      "2022-05-26 14:15:40.241322: I tensorflow/stream_executor/cuda/cuda_diagnostics.cc:200] libcuda reported version is: 510.73.5\n",
      "2022-05-26 14:15:40.241367: I tensorflow/stream_executor/cuda/cuda_diagnostics.cc:204] kernel reported version is: 510.73.5\n",
      "2022-05-26 14:15:40.241378: I tensorflow/stream_executor/cuda/cuda_diagnostics.cc:310] kernel version seems to match DSO: 510.73.5\n",
      "2022-05-26 14:15:40.243822: I tensorflow/core/platform/cpu_feature_guard.cc:193] This TensorFlow binary is optimized with oneAPI Deep Neural Network Library (oneDNN) to use the following CPU instructions in performance-critical operations:  AVX2 FMA\n",
      "To enable them in other operations, rebuild TensorFlow with the appropriate compiler flags.\n"
     ]
    },
    {
     "data": {
      "text/html": [
       "\n",
       "    \n",
       "        <style>\n",
       "           .luc_confusion_mtx td { background: white!IMPORTANT; border: 0pt !IMPORTANT; text-align: center!IMPORTANT }           \n",
       "           td.luc_confusion_mtx_dp { width: 90pt; height: 90pt; background: #c0ffc0!IMPORTANT; border: 1pt solid black!IMPORTANT } \n",
       "           td.luc_confusion_mtx_dn { width: 90pt; height: 90pt; background: #ffc0c0!IMPORTANT; border: 1pt solid black!IMPORTANT }            \n",
       "        </style>\n",
       "        \n",
       "        <h4>Método Bagging com Árvore de Decisão</h4>\n",
       "        <table class='luc_confusion_mtx'>\n",
       "        <tr>\n",
       "            <td></td>\n",
       "            <td></td>\n",
       "            <td colspan=2>Previsão</td>\n",
       "            <td></td>\n",
       "            <td rowspan=5 style='text-align: left!IMPORTANT'>\n",
       "                    Acurácia<br><big><big>(TP+TN)/(total)</big></big> = 13477/20000 = <big>67.4%</big><br>\n",
       "                    <br><br>\n",
       "                    Considerando que as duas classes (0=sentimento negativo;1=sentimento positivo) tem igual \n",
       "                    valor para esta análise, é importante maximizar a diagonal verde / minimizar a diagonal vermelha,\n",
       "                    portanto os indicadores de Acurácia OU F1 são os mais indicados.<br>\n",
       "                    <br>\n",
       "                    Os indicadores de precisão e sensibilidade(recall) podem ser usados em conjunto, mas não são\n",
       "                    muito intuitivos para este conjunto de dados pois mensuram da perspectiva do \"sentimento positivo\".\n",
       "                    Em outras palavras, a sensibilidade indica quantos \"sentimentos positivos\" corretos foram encontrados\n",
       "                    e a \"precisão\" indica do total apontado pelo modelo como \"sentimento positivo\", quantos eram. \n",
       "            </td>\n",
       "        </tr>\n",
       "        <tr>\n",
       "            <td></td>\n",
       "            <td></td>\n",
       "            <td>Negativo</td>\n",
       "            <td>Positivo</td>\n",
       "            <td></td>            \n",
       "        </tr>\n",
       "        <tr>\n",
       "            <td rowspan=2>Real</td>\n",
       "            <td>Negativo</td>\n",
       "            <td class=\"luc_confusion_mtx_dp\"><big><big>TN</big></big><br>6967<br>34.8%</td>\n",
       "            <td class=\"luc_confusion_mtx_dn\"><big><big>FP</big></big><br>3051<br>15.3%</td>\n",
       "            <td>10018</td>\n",
       "        </tr>        \n",
       "        <tr>\n",
       "            <td>Positivo</td>\n",
       "            <td class=\"luc_confusion_mtx_dn\"><big><big>FN</big></big><br>3472<br>17.4%</td>\n",
       "            <td class=\"luc_confusion_mtx_dp\"><big><big>TP</big></big><br>6510<br>32.5%</td>\n",
       "            <td>6523</td>\n",
       "        </tr>  \n",
       "        <tr>\n",
       "            <td></td>\n",
       "            <td></td>\n",
       "            <td>10439</td>\n",
       "            <td>9561</td>\n",
       "            <td>20000</td>\n",
       "        </tr>  \n",
       "        </table>    \n",
       "        \n",
       "        \n",
       "       \n",
       "    "
      ],
      "text/plain": [
       "<IPython.core.display.HTML object>"
      ]
     },
     "metadata": {},
     "output_type": "display_data"
    },
    {
     "name": "stdout",
     "output_type": "stream",
     "text": [
      "             Acurácia=67.38% dos apontamentos positivos e negativos estão corretos\n",
      " Recall/Sensibilidade=65.22% dos sentimentos positivos da base foram apontados\n",
      "             Precisão=68.09% dos sentimentos positivos apontados estão corretos\n",
      "             F1 Score=66.28% média harmônica da acurácia e recall\n"
     ]
    },
    {
     "data": {
      "text/html": [
       "\n",
       "    \n",
       "        <style>\n",
       "           .luc_confusion_mtx td { background: white!IMPORTANT; border: 0pt !IMPORTANT; text-align: center!IMPORTANT }           \n",
       "           td.luc_confusion_mtx_dp { width: 90pt; height: 90pt; background: #c0ffc0!IMPORTANT; border: 1pt solid black!IMPORTANT } \n",
       "           td.luc_confusion_mtx_dn { width: 90pt; height: 90pt; background: #ffc0c0!IMPORTANT; border: 1pt solid black!IMPORTANT }            \n",
       "        </style>\n",
       "        \n",
       "        <h4>Método Regressão Logística</h4>\n",
       "        <table class='luc_confusion_mtx'>\n",
       "        <tr>\n",
       "            <td></td>\n",
       "            <td></td>\n",
       "            <td colspan=2>Previsão</td>\n",
       "            <td></td>\n",
       "            <td rowspan=5 style='text-align: left!IMPORTANT'>\n",
       "                    Acurácia<br><big><big>(TP+TN)/(total)</big></big> = 14003/20000 = <big>70.0%</big><br>\n",
       "                    <br><br>\n",
       "                    Considerando que as duas classes (0=sentimento negativo;1=sentimento positivo) tem igual \n",
       "                    valor para esta análise, é importante maximizar a diagonal verde / minimizar a diagonal vermelha,\n",
       "                    portanto os indicadores de Acurácia OU F1 são os mais indicados.<br>\n",
       "                    <br>\n",
       "                    Os indicadores de precisão e sensibilidade(recall) podem ser usados em conjunto, mas não são\n",
       "                    muito intuitivos para este conjunto de dados pois mensuram da perspectiva do \"sentimento positivo\".\n",
       "                    Em outras palavras, a sensibilidade indica quantos \"sentimentos positivos\" corretos foram encontrados\n",
       "                    e a \"precisão\" indica do total apontado pelo modelo como \"sentimento positivo\", quantos eram. \n",
       "            </td>\n",
       "        </tr>\n",
       "        <tr>\n",
       "            <td></td>\n",
       "            <td></td>\n",
       "            <td>Negativo</td>\n",
       "            <td>Positivo</td>\n",
       "            <td></td>            \n",
       "        </tr>\n",
       "        <tr>\n",
       "            <td rowspan=2>Real</td>\n",
       "            <td>Negativo</td>\n",
       "            <td class=\"luc_confusion_mtx_dp\"><big><big>TN</big></big><br>7420<br>37.1%</td>\n",
       "            <td class=\"luc_confusion_mtx_dn\"><big><big>FP</big></big><br>2598<br>13.0%</td>\n",
       "            <td>10018</td>\n",
       "        </tr>        \n",
       "        <tr>\n",
       "            <td>Positivo</td>\n",
       "            <td class=\"luc_confusion_mtx_dn\"><big><big>FN</big></big><br>3399<br>17.0%</td>\n",
       "            <td class=\"luc_confusion_mtx_dp\"><big><big>TP</big></big><br>6583<br>32.9%</td>\n",
       "            <td>5997</td>\n",
       "        </tr>  \n",
       "        <tr>\n",
       "            <td></td>\n",
       "            <td></td>\n",
       "            <td>10819</td>\n",
       "            <td>9181</td>\n",
       "            <td>20000</td>\n",
       "        </tr>  \n",
       "        </table>    \n",
       "        \n",
       "        \n",
       "       \n",
       "    "
      ],
      "text/plain": [
       "<IPython.core.display.HTML object>"
      ]
     },
     "metadata": {},
     "output_type": "display_data"
    },
    {
     "name": "stdout",
     "output_type": "stream",
     "text": [
      "             Acurácia=70.02% dos apontamentos positivos e negativos estão corretos\n",
      " Recall/Sensibilidade=65.95% dos sentimentos positivos da base foram apontados\n",
      "             Precisão=71.70% dos sentimentos positivos apontados estão corretos\n",
      "             F1 Score=67.92% média harmônica da acurácia e recall\n"
     ]
    },
    {
     "data": {
      "text/html": [
       "\n",
       "    \n",
       "        <style>\n",
       "           .luc_confusion_mtx td { background: white!IMPORTANT; border: 0pt !IMPORTANT; text-align: center!IMPORTANT }           \n",
       "           td.luc_confusion_mtx_dp { width: 90pt; height: 90pt; background: #c0ffc0!IMPORTANT; border: 1pt solid black!IMPORTANT } \n",
       "           td.luc_confusion_mtx_dn { width: 90pt; height: 90pt; background: #ffc0c0!IMPORTANT; border: 1pt solid black!IMPORTANT }            \n",
       "        </style>\n",
       "        \n",
       "        <h4>Método MultinomialNB</h4>\n",
       "        <table class='luc_confusion_mtx'>\n",
       "        <tr>\n",
       "            <td></td>\n",
       "            <td></td>\n",
       "            <td colspan=2>Previsão</td>\n",
       "            <td></td>\n",
       "            <td rowspan=5 style='text-align: left!IMPORTANT'>\n",
       "                    Acurácia<br><big><big>(TP+TN)/(total)</big></big> = 13873/20000 = <big>69.4%</big><br>\n",
       "                    <br><br>\n",
       "                    Considerando que as duas classes (0=sentimento negativo;1=sentimento positivo) tem igual \n",
       "                    valor para esta análise, é importante maximizar a diagonal verde / minimizar a diagonal vermelha,\n",
       "                    portanto os indicadores de Acurácia OU F1 são os mais indicados.<br>\n",
       "                    <br>\n",
       "                    Os indicadores de precisão e sensibilidade(recall) podem ser usados em conjunto, mas não são\n",
       "                    muito intuitivos para este conjunto de dados pois mensuram da perspectiva do \"sentimento positivo\".\n",
       "                    Em outras palavras, a sensibilidade indica quantos \"sentimentos positivos\" corretos foram encontrados\n",
       "                    e a \"precisão\" indica do total apontado pelo modelo como \"sentimento positivo\", quantos eram. \n",
       "            </td>\n",
       "        </tr>\n",
       "        <tr>\n",
       "            <td></td>\n",
       "            <td></td>\n",
       "            <td>Negativo</td>\n",
       "            <td>Positivo</td>\n",
       "            <td></td>            \n",
       "        </tr>\n",
       "        <tr>\n",
       "            <td rowspan=2>Real</td>\n",
       "            <td>Negativo</td>\n",
       "            <td class=\"luc_confusion_mtx_dp\"><big><big>TN</big></big><br>6956<br>34.8%</td>\n",
       "            <td class=\"luc_confusion_mtx_dn\"><big><big>FP</big></big><br>3062<br>15.3%</td>\n",
       "            <td>10018</td>\n",
       "        </tr>        \n",
       "        <tr>\n",
       "            <td>Positivo</td>\n",
       "            <td class=\"luc_confusion_mtx_dn\"><big><big>FN</big></big><br>3065<br>15.3%</td>\n",
       "            <td class=\"luc_confusion_mtx_dp\"><big><big>TP</big></big><br>6917<br>34.6%</td>\n",
       "            <td>6127</td>\n",
       "        </tr>  \n",
       "        <tr>\n",
       "            <td></td>\n",
       "            <td></td>\n",
       "            <td>10021</td>\n",
       "            <td>9979</td>\n",
       "            <td>20000</td>\n",
       "        </tr>  \n",
       "        </table>    \n",
       "        \n",
       "        \n",
       "       \n",
       "    "
      ],
      "text/plain": [
       "<IPython.core.display.HTML object>"
      ]
     },
     "metadata": {},
     "output_type": "display_data"
    },
    {
     "name": "stdout",
     "output_type": "stream",
     "text": [
      "             Acurácia=69.36% dos apontamentos positivos e negativos estão corretos\n",
      " Recall/Sensibilidade=69.29% dos sentimentos positivos da base foram apontados\n",
      "             Precisão=69.32% dos sentimentos positivos apontados estão corretos\n",
      "             F1 Score=69.33% média harmônica da acurácia e recall\n"
     ]
    }
   ],
   "source": [
    "block(y_test, y_pred_bag, 'Método Bagging com Árvore de Decisão')\n",
    "block(y_test, y_pred_lr, 'Método Regressão Logística')\n",
    "block(y_test, y_pred_nb, 'Método MultinomialNB')"
   ]
  },
  {
   "cell_type": "code",
   "execution_count": null,
   "id": "b2adda41-bf64-4243-888a-c9336ff89c34",
   "metadata": {},
   "outputs": [],
   "source": []
  }
 ],
 "metadata": {
  "accelerator": "GPU",
  "colab": {
   "name": "an-lise-de-sentimento_Metodos_Classicos.ipynb",
   "provenance": []
  },
  "kernelspec": {
   "display_name": "venv_tf",
   "language": "python",
   "name": "venv_tf"
  },
  "language_info": {
   "codemirror_mode": {
    "name": "ipython",
    "version": 3
   },
   "file_extension": ".py",
   "mimetype": "text/x-python",
   "name": "python",
   "nbconvert_exporter": "python",
   "pygments_lexer": "ipython3",
   "version": "3.10.4"
  },
  "papermill": {
   "default_parameters": {},
   "duration": 487.659147,
   "end_time": "2022-05-23T21:50:19.655589",
   "environment_variables": {},
   "exception": null,
   "input_path": "__notebook__.ipynb",
   "output_path": "__notebook__.ipynb",
   "parameters": {},
   "start_time": "2022-05-23T21:42:11.996442",
   "version": "2.3.4"
  }
 },
 "nbformat": 4,
 "nbformat_minor": 5
}
